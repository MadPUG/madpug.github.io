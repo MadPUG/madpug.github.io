{
 "metadata": {
  "name": ""
 },
 "nbformat": 3,
 "nbformat_minor": 0,
 "worksheets": [
  {
   "cells": [
    {
     "cell_type": "markdown",
     "metadata": {},
     "source": [
      "For interactive sessions, start with this:\n",
      "\n",
      "   %pylab inline\n",
      "   \n",
      "The `%pylab` portion is basically a bunch of \"`from X import *`\" commands and sets up the global environment with a bunch of handy stuff.\n",
      "\n",
      "1. Mathematical functions and constants, like `sin()` and `pi`, from numpy\n",
      "2. All of numpy as `np`\n",
      "3. simple graph api, like `plot()` and `pie()`\n",
      "4. matplotlib.pylot as `plt`\n",
      "\n",
      "The `inline` keyword tells it to show graphs in the notebook instead of opening them in a new window.\n"
     ]
    },
    {
     "cell_type": "code",
     "collapsed": false,
     "input": [
      "%pylab inline"
     ],
     "language": "python",
     "metadata": {},
     "outputs": [
      {
       "output_type": "stream",
       "stream": "stdout",
       "text": [
        "Populating the interactive namespace from numpy and matplotlib\n"
       ]
      }
     ],
     "prompt_number": 1
    },
    {
     "cell_type": "code",
     "collapsed": false,
     "input": [
      "months = np.linspace(1, 36)\n",
      "temps = 30 * sin(months * 2*pi/12) + 50"
     ],
     "language": "python",
     "metadata": {},
     "outputs": [],
     "prompt_number": 3
    },
    {
     "cell_type": "code",
     "collapsed": false,
     "input": [
      "#plot(months, temps)\n",
      "plot(months, temps * 0.8, 'go-', label=\"temps\")\n",
      "\n",
      "# style it a bit\n",
      "ylim([0, 100])\n",
      "xlim([1,36])\n",
      "ylabel('Temp')\n",
      "title('Seasonal Variation')\n",
      "xlabel('Months')\n",
      "\n",
      "#step(months, temps, 'y', label='steps')\n",
      "bar(months, temps, color='#aaffaa', label='bars')\n",
      "\n",
      "\n",
      "# add a legend\n",
      "legend(loc=3)\n",
      "\n",
      "None"
     ],
     "language": "python",
     "metadata": {},
     "outputs": [
      {
       "metadata": {},
       "output_type": "display_data",
       "png": "[encoded data removed]",
       "text": [
        "<matplotlib.figure.Figure at 0x108351850>"
       ]
      }
     ],
     "prompt_number": 27
    },
    {
     "cell_type": "code",
     "collapsed": false,
     "input": [
      "N = 200\n",
      "%timeit np.random.uniform(0,1, [N, N]).dot(np.random.uniform(0,1, [N, N]))\n",
      "%timeit linalg.inv( np.random.uniform(0,1, [N, N]) )\n"
     ],
     "language": "python",
     "metadata": {},
     "outputs": [
      {
       "output_type": "stream",
       "stream": "stdout",
       "text": [
        "1000 loops, best of 3: 1.72 ms per loop\n",
        "1000 loops, best of 3: 1.9 ms per loop"
       ]
      },
      {
       "output_type": "stream",
       "stream": "stdout",
       "text": [
        "\n"
       ]
      }
     ],
     "prompt_number": 30
    },
    {
     "cell_type": "code",
     "collapsed": false,
     "input": [
      "import requests\n",
      "\n",
      "response = requests.get('http://oranlooney.com/static/images/interface-diagram.png')\n",
      "response"
     ],
     "language": "python",
     "metadata": {},
     "outputs": [
      {
       "metadata": {},
       "output_type": "pyout",
       "prompt_number": 5,
       "text": [
        "<Response [200]>"
       ]
      }
     ],
     "prompt_number": 5
    },
    {
     "cell_type": "code",
     "collapsed": false,
     "input": [
      "response.headers"
     ],
     "language": "python",
     "metadata": {},
     "outputs": [
      {
       "metadata": {},
       "output_type": "pyout",
       "prompt_number": 6,
       "text": [
        "CaseInsensitiveDict({'content-length': '73087', 'accept-ranges': 'bytes', 'expires': 'Wed, 14 Jan 2015 01:41:51 GMT', 'server': 'Apache/2.2.20 (Ubuntu)', 'last-modified': 'Tue, 13 Dec 2011 01:02:52 GMT', 'cache-control': 'max-age=31536000', 'date': 'Tue, 14 Jan 2014 01:41:51 GMT', 'content-type': 'image/png'})"
       ]
      }
     ],
     "prompt_number": 6
    },
    {
     "cell_type": "code",
     "collapsed": false,
     "input": [
      "from IPython.display import display, Image"
     ],
     "language": "python",
     "metadata": {},
     "outputs": [],
     "prompt_number": 7
    },
    {
     "cell_type": "code",
     "collapsed": false,
     "input": [
      "display(Image(response.content))"
     ],
     "language": "python",
     "metadata": {},
     "outputs": [],
     "prompt_number": 8
    },
    {
     "cell_type": "markdown",
     "metadata": {},
     "source": [
      "More Resources\n",
      "--------------\n",
      "\n",
      "Why scipy is awesome: http://www.talyarkoni.org/blog/category/statistics/\n",
      "\n",
      "A really good series of lectures/tutorials on scipy: https://github.com/jrjohansson/scientific-python-lectures\n",
      "\n",
      "Moving from matlab to numpy: http://sebastianraschka.com/Articles/2014_matlab_vs_numpy.html"
     ]
    }
   ],
   "metadata": {}
  }
 ]
}